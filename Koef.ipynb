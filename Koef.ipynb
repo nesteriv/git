{
  "nbformat": 4,
  "nbformat_minor": 0,
  "metadata": {
    "kernelspec": {
      "display_name": "Python 3",
      "language": "python",
      "name": "python3"
    },
    "language_info": {
      "codemirror_mode": {
        "name": "ipython",
        "version": 3
      },
      "file_extension": ".py",
      "mimetype": "text/x-python",
      "name": "python",
      "nbconvert_exporter": "python",
      "pygments_lexer": "ipython3",
      "version": "3.7.3"
    },
    "colab": {
      "name": "Koef.ipynb",
      "provenance": [],
      "include_colab_link": true
    }
  },
  "cells": [
    {
      "cell_type": "markdown",
      "metadata": {
        "id": "view-in-github",
        "colab_type": "text"
      },
      "source": [
        "<a href=\"https://colab.research.google.com/github/nesteriv/git/blob/master/Koef.ipynb\" target=\"_parent\"><img src=\"https://colab.research.google.com/assets/colab-badge.svg\" alt=\"Open In Colab\"/></a>"
      ]
    },
    {
      "cell_type": "code",
      "metadata": {
        "id": "F1apoUpk-CnS",
        "colab_type": "code",
        "colab": {}
      },
      "source": [
        "sentence = '«President Trump compared the Irish border to the U.S. border with Mexico and told Prime Minister Leo Varadkar that the tortured Brexit process is “going to be just fine.” “Ireland’s going to be in good shape,” he said during a meeting with Varadkar at the airport in Shannon, Ireland, a location that allowed him access to his golf resort nearby. “I don’t think the border’s going to be a problem at all.”» The Washington Post.'"
      ],
      "execution_count": 0,
      "outputs": []
    },
    {
      "cell_type": "code",
      "metadata": {
        "id": "VQKuRTkk-CnW",
        "colab_type": "code",
        "colab": {}
      },
      "source": [
        "#Токенизация\n",
        "import nltk\n",
        "from nltk.tokenize import TweetTokenizer\n",
        "tokenize_sentence = TweetTokenizer()\n",
        "text1 = tokenize_sentence.tokenize(sentence)"
      ],
      "execution_count": 0,
      "outputs": []
    },
    {
      "cell_type": "code",
      "metadata": {
        "id": "Fhl_CqJr-CnY",
        "colab_type": "code",
        "colab": {
          "base_uri": "https://localhost:8080/",
          "height": 122
        },
        "outputId": "067fabe5-a199-41c7-ed7f-45f1d8a6e7d0"
      },
      "source": [
        "#Лемматизация\n",
        "import nltk\n",
        "nltk.download('wordnet')\n",
        "nltk.download('punkt')\n",
        "from nltk.stem import WordNetLemmatizer \n",
        "lemmatizer = WordNetLemmatizer()\n",
        "lemmatized = []\n",
        "for i in range(0, len(text1)):\n",
        "    output = lemmatizer.lemmatize(text1[i])\n",
        "    lemmatized.append(output)\n",
        "print(lemmatized)"
      ],
      "execution_count": 3,
      "outputs": [
        {
          "output_type": "stream",
          "text": [
            "[nltk_data] Downloading package wordnet to /root/nltk_data...\n",
            "[nltk_data]   Unzipping corpora/wordnet.zip.\n",
            "[nltk_data] Downloading package punkt to /root/nltk_data...\n",
            "[nltk_data]   Unzipping tokenizers/punkt.zip.\n",
            "['«', 'President', 'Trump', 'compared', 'the', 'Irish', 'border', 'to', 'the', 'U', '.', 'S', '.', 'border', 'with', 'Mexico', 'and', 'told', 'Prime', 'Minister', 'Leo', 'Varadkar', 'that', 'the', 'tortured', 'Brexit', 'process', 'is', '“', 'going', 'to', 'be', 'just', 'fine', '.', '”', '“', 'Ireland', '’', 's', 'going', 'to', 'be', 'in', 'good', 'shape', ',', '”', 'he', 'said', 'during', 'a', 'meeting', 'with', 'Varadkar', 'at', 'the', 'airport', 'in', 'Shannon', ',', 'Ireland', ',', 'a', 'location', 'that', 'allowed', 'him', 'access', 'to', 'his', 'golf', 'resort', 'nearby', '.', '“', 'I', 'don', '’', 't', 'think', 'the', 'border', '’', 's', 'going', 'to', 'be', 'a', 'problem', 'at', 'all', '.', '”', '»', 'The', 'Washington', 'Post', '.']\n"
          ],
          "name": "stdout"
        }
      ]
    },
    {
      "cell_type": "code",
      "metadata": {
        "id": "3ZA9RyqR-Cnb",
        "colab_type": "code",
        "colab": {
          "base_uri": "https://localhost:8080/",
          "height": 1000
        },
        "outputId": "52090ce3-a6c0-4005-a671-4e279e9368d6"
      },
      "source": [
        "# Считаем TF-IDF\n",
        "\n",
        "import collections\n",
        "TfIdf = collections.Counter()\n",
        "for word in lemmatized:\n",
        "     TfIdf[word] += 1/len(lemmatized)\n",
        "TfIdf"
      ],
      "execution_count": 4,
      "outputs": [
        {
          "output_type": "execute_result",
          "data": {
            "text/plain": [
              "Counter({',': 0.030303030303030304,\n",
              "         '.': 0.060606060606060615,\n",
              "         'Brexit': 0.010101010101010102,\n",
              "         'I': 0.010101010101010102,\n",
              "         'Ireland': 0.020202020202020204,\n",
              "         'Irish': 0.010101010101010102,\n",
              "         'Leo': 0.010101010101010102,\n",
              "         'Mexico': 0.010101010101010102,\n",
              "         'Minister': 0.010101010101010102,\n",
              "         'Post': 0.010101010101010102,\n",
              "         'President': 0.010101010101010102,\n",
              "         'Prime': 0.010101010101010102,\n",
              "         'S': 0.010101010101010102,\n",
              "         'Shannon': 0.010101010101010102,\n",
              "         'The': 0.010101010101010102,\n",
              "         'Trump': 0.010101010101010102,\n",
              "         'U': 0.010101010101010102,\n",
              "         'Varadkar': 0.020202020202020204,\n",
              "         'Washington': 0.010101010101010102,\n",
              "         'a': 0.030303030303030304,\n",
              "         'access': 0.010101010101010102,\n",
              "         'airport': 0.010101010101010102,\n",
              "         'all': 0.010101010101010102,\n",
              "         'allowed': 0.010101010101010102,\n",
              "         'and': 0.010101010101010102,\n",
              "         'at': 0.020202020202020204,\n",
              "         'be': 0.030303030303030304,\n",
              "         'border': 0.030303030303030304,\n",
              "         'compared': 0.010101010101010102,\n",
              "         'don': 0.010101010101010102,\n",
              "         'during': 0.010101010101010102,\n",
              "         'fine': 0.010101010101010102,\n",
              "         'going': 0.030303030303030304,\n",
              "         'golf': 0.010101010101010102,\n",
              "         'good': 0.010101010101010102,\n",
              "         'he': 0.010101010101010102,\n",
              "         'him': 0.010101010101010102,\n",
              "         'his': 0.010101010101010102,\n",
              "         'in': 0.020202020202020204,\n",
              "         'is': 0.010101010101010102,\n",
              "         'just': 0.010101010101010102,\n",
              "         'location': 0.010101010101010102,\n",
              "         'meeting': 0.010101010101010102,\n",
              "         'nearby': 0.010101010101010102,\n",
              "         'problem': 0.010101010101010102,\n",
              "         'process': 0.010101010101010102,\n",
              "         'resort': 0.010101010101010102,\n",
              "         's': 0.020202020202020204,\n",
              "         'said': 0.010101010101010102,\n",
              "         'shape': 0.010101010101010102,\n",
              "         't': 0.010101010101010102,\n",
              "         'that': 0.020202020202020204,\n",
              "         'the': 0.05050505050505051,\n",
              "         'think': 0.010101010101010102,\n",
              "         'to': 0.05050505050505051,\n",
              "         'told': 0.010101010101010102,\n",
              "         'tortured': 0.010101010101010102,\n",
              "         'with': 0.020202020202020204,\n",
              "         '«': 0.010101010101010102,\n",
              "         '»': 0.010101010101010102,\n",
              "         '’': 0.030303030303030304,\n",
              "         '“': 0.030303030303030304,\n",
              "         '”': 0.030303030303030304})"
            ]
          },
          "metadata": {
            "tags": []
          },
          "execution_count": 4
        }
      ]
    },
    {
      "cell_type": "code",
      "metadata": {
        "id": "9BKR-lsY-PHl",
        "colab_type": "code",
        "colab": {}
      },
      "source": [
        ""
      ],
      "execution_count": 0,
      "outputs": []
    }
  ]
}